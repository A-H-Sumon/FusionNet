{
  "nbformat": 4,
  "nbformat_minor": 0,
  "metadata": {
    "colab": {
      "provenance": [],
      "gpuType": "T4",
      "include_colab_link": true
    },
    "kernelspec": {
      "name": "python3",
      "display_name": "Python 3"
    },
    "language_info": {
      "name": "python"
    },
    "accelerator": "GPU"
  },
  "cells": [
    {
      "cell_type": "markdown",
      "metadata": {
        "id": "view-in-github",
        "colab_type": "text"
      },
      "source": [
        "<a href=\"https://colab.research.google.com/github/A-H-Sumon/FusionNet/blob/main/EfficientNet_B0NumtaDB.ipynb\" target=\"_parent\"><img src=\"https://colab.research.google.com/assets/colab-badge.svg\" alt=\"Open In Colab\"/></a>"
      ]
    },
    {
      "cell_type": "code",
      "execution_count": null,
      "metadata": {
        "id": "FmPZIBdztdYk"
      },
      "outputs": [],
      "source": [
        "from google.colab import files\n",
        "files.upload()"
      ]
    },
    {
      "cell_type": "code",
      "source": [
        "!mkdir -p ~/.kaggle\n",
        "!cp kaggle.json ~/.kaggle/\n",
        "!chmod 600 ~/.kaggle/kaggle.json\n"
      ],
      "metadata": {
        "id": "MwKx-Kh3D62f"
      },
      "execution_count": null,
      "outputs": []
    },
    {
      "cell_type": "code",
      "source": [
        "!kaggle datasets download -d BengaliAI/numta --unzip"
      ],
      "metadata": {
        "colab": {
          "base_uri": "https://localhost:8080/"
        },
        "id": "hqDwbsvzD7Tt",
        "outputId": "2e5920b7-420f-409e-bf69-7ae041e3a7ce"
      },
      "execution_count": null,
      "outputs": [
        {
          "output_type": "stream",
          "name": "stdout",
          "text": [
            "Dataset URL: https://www.kaggle.com/datasets/BengaliAI/numta\n",
            "License(s): CC-BY-SA-4.0\n",
            "Downloading numta.zip to /content\n",
            " 99% 1.89G/1.91G [00:09<00:00, 258MB/s]\n",
            "100% 1.91G/1.91G [00:09<00:00, 208MB/s]\n"
          ]
        }
      ]
    },
    {
      "cell_type": "code",
      "source": [
        "!pip install opencv-python"
      ],
      "metadata": {
        "colab": {
          "base_uri": "https://localhost:8080/"
        },
        "id": "HEFxpgZoEhJH",
        "outputId": "92e72c9f-d489-4a73-8a4b-54aec0e8365d"
      },
      "execution_count": null,
      "outputs": [
        {
          "output_type": "stream",
          "name": "stdout",
          "text": [
            "Requirement already satisfied: opencv-python in /usr/local/lib/python3.11/dist-packages (4.11.0.86)\n",
            "Requirement already satisfied: numpy>=1.21.2 in /usr/local/lib/python3.11/dist-packages (from opencv-python) (2.0.2)\n"
          ]
        }
      ]
    },
    {
      "cell_type": "code",
      "source": [
        "!pip install tensorflow"
      ],
      "metadata": {
        "colab": {
          "base_uri": "https://localhost:8080/"
        },
        "id": "kPajPn3xE7ks",
        "outputId": "efed9a09-ca3b-4861-c3ac-edbe1de89be1"
      },
      "execution_count": null,
      "outputs": [
        {
          "output_type": "stream",
          "name": "stdout",
          "text": [
            "Requirement already satisfied: tensorflow in /usr/local/lib/python3.11/dist-packages (2.18.0)\n",
            "Requirement already satisfied: absl-py>=1.0.0 in /usr/local/lib/python3.11/dist-packages (from tensorflow) (1.4.0)\n",
            "Requirement already satisfied: astunparse>=1.6.0 in /usr/local/lib/python3.11/dist-packages (from tensorflow) (1.6.3)\n",
            "Requirement already satisfied: flatbuffers>=24.3.25 in /usr/local/lib/python3.11/dist-packages (from tensorflow) (25.2.10)\n",
            "Requirement already satisfied: gast!=0.5.0,!=0.5.1,!=0.5.2,>=0.2.1 in /usr/local/lib/python3.11/dist-packages (from tensorflow) (0.6.0)\n",
            "Requirement already satisfied: google-pasta>=0.1.1 in /usr/local/lib/python3.11/dist-packages (from tensorflow) (0.2.0)\n",
            "Requirement already satisfied: libclang>=13.0.0 in /usr/local/lib/python3.11/dist-packages (from tensorflow) (18.1.1)\n",
            "Requirement already satisfied: opt-einsum>=2.3.2 in /usr/local/lib/python3.11/dist-packages (from tensorflow) (3.4.0)\n",
            "Requirement already satisfied: packaging in /usr/local/lib/python3.11/dist-packages (from tensorflow) (25.0)\n",
            "Requirement already satisfied: protobuf!=4.21.0,!=4.21.1,!=4.21.2,!=4.21.3,!=4.21.4,!=4.21.5,<6.0.0dev,>=3.20.3 in /usr/local/lib/python3.11/dist-packages (from tensorflow) (5.29.5)\n",
            "Requirement already satisfied: requests<3,>=2.21.0 in /usr/local/lib/python3.11/dist-packages (from tensorflow) (2.32.3)\n",
            "Requirement already satisfied: setuptools in /usr/local/lib/python3.11/dist-packages (from tensorflow) (75.2.0)\n",
            "Requirement already satisfied: six>=1.12.0 in /usr/local/lib/python3.11/dist-packages (from tensorflow) (1.17.0)\n",
            "Requirement already satisfied: termcolor>=1.1.0 in /usr/local/lib/python3.11/dist-packages (from tensorflow) (3.1.0)\n",
            "Requirement already satisfied: typing-extensions>=3.6.6 in /usr/local/lib/python3.11/dist-packages (from tensorflow) (4.14.1)\n",
            "Requirement already satisfied: wrapt>=1.11.0 in /usr/local/lib/python3.11/dist-packages (from tensorflow) (1.17.2)\n",
            "Requirement already satisfied: grpcio<2.0,>=1.24.3 in /usr/local/lib/python3.11/dist-packages (from tensorflow) (1.73.1)\n",
            "Requirement already satisfied: tensorboard<2.19,>=2.18 in /usr/local/lib/python3.11/dist-packages (from tensorflow) (2.18.0)\n",
            "Requirement already satisfied: keras>=3.5.0 in /usr/local/lib/python3.11/dist-packages (from tensorflow) (3.8.0)\n",
            "Requirement already satisfied: numpy<2.1.0,>=1.26.0 in /usr/local/lib/python3.11/dist-packages (from tensorflow) (2.0.2)\n",
            "Requirement already satisfied: h5py>=3.11.0 in /usr/local/lib/python3.11/dist-packages (from tensorflow) (3.14.0)\n",
            "Requirement already satisfied: ml-dtypes<0.5.0,>=0.4.0 in /usr/local/lib/python3.11/dist-packages (from tensorflow) (0.4.1)\n",
            "Requirement already satisfied: tensorflow-io-gcs-filesystem>=0.23.1 in /usr/local/lib/python3.11/dist-packages (from tensorflow) (0.37.1)\n",
            "Requirement already satisfied: wheel<1.0,>=0.23.0 in /usr/local/lib/python3.11/dist-packages (from astunparse>=1.6.0->tensorflow) (0.45.1)\n",
            "Requirement already satisfied: rich in /usr/local/lib/python3.11/dist-packages (from keras>=3.5.0->tensorflow) (13.9.4)\n",
            "Requirement already satisfied: namex in /usr/local/lib/python3.11/dist-packages (from keras>=3.5.0->tensorflow) (0.1.0)\n",
            "Requirement already satisfied: optree in /usr/local/lib/python3.11/dist-packages (from keras>=3.5.0->tensorflow) (0.16.0)\n",
            "Requirement already satisfied: charset-normalizer<4,>=2 in /usr/local/lib/python3.11/dist-packages (from requests<3,>=2.21.0->tensorflow) (3.4.2)\n",
            "Requirement already satisfied: idna<4,>=2.5 in /usr/local/lib/python3.11/dist-packages (from requests<3,>=2.21.0->tensorflow) (3.10)\n",
            "Requirement already satisfied: urllib3<3,>=1.21.1 in /usr/local/lib/python3.11/dist-packages (from requests<3,>=2.21.0->tensorflow) (2.4.0)\n",
            "Requirement already satisfied: certifi>=2017.4.17 in /usr/local/lib/python3.11/dist-packages (from requests<3,>=2.21.0->tensorflow) (2025.7.14)\n",
            "Requirement already satisfied: markdown>=2.6.8 in /usr/local/lib/python3.11/dist-packages (from tensorboard<2.19,>=2.18->tensorflow) (3.8.2)\n",
            "Requirement already satisfied: tensorboard-data-server<0.8.0,>=0.7.0 in /usr/local/lib/python3.11/dist-packages (from tensorboard<2.19,>=2.18->tensorflow) (0.7.2)\n",
            "Requirement already satisfied: werkzeug>=1.0.1 in /usr/local/lib/python3.11/dist-packages (from tensorboard<2.19,>=2.18->tensorflow) (3.1.3)\n",
            "Requirement already satisfied: MarkupSafe>=2.1.1 in /usr/local/lib/python3.11/dist-packages (from werkzeug>=1.0.1->tensorboard<2.19,>=2.18->tensorflow) (3.0.2)\n",
            "Requirement already satisfied: markdown-it-py>=2.2.0 in /usr/local/lib/python3.11/dist-packages (from rich->keras>=3.5.0->tensorflow) (3.0.0)\n",
            "Requirement already satisfied: pygments<3.0.0,>=2.13.0 in /usr/local/lib/python3.11/dist-packages (from rich->keras>=3.5.0->tensorflow) (2.19.2)\n",
            "Requirement already satisfied: mdurl~=0.1 in /usr/local/lib/python3.11/dist-packages (from markdown-it-py>=2.2.0->rich->keras>=3.5.0->tensorflow) (0.1.2)\n"
          ]
        }
      ]
    },
    {
      "cell_type": "code",
      "source": [
        "import os\n",
        "import cv2\n",
        "import numpy as np\n",
        "import pandas as pd\n",
        "from sklearn.preprocessing import LabelEncoder\n",
        "import tensorflow as tf\n",
        "from tensorflow.keras.applications import EfficientNetB0\n",
        "from tensorflow.keras.models import Model\n",
        "from tensorflow.keras.layers import Dense, Dropout, GlobalAveragePooling2D\n",
        "from tensorflow.keras.preprocessing.image import ImageDataGenerator\n",
        "from tensorflow.keras.callbacks import ModelCheckpoint, EarlyStopping\n",
        "from tensorflow.keras import mixed_precision\n",
        "\n",
        "# Set the mixed precision policy\n",
        "policy = mixed_precision.Policy('mixed_float16')\n",
        "mixed_precision.set_global_policy(policy)\n"
      ],
      "metadata": {
        "id": "NHOUjanLtetW"
      },
      "execution_count": null,
      "outputs": []
    },
    {
      "cell_type": "code",
      "source": [
        "from google.colab import drive\n",
        "drive.mount('/content/drive')\n"
      ],
      "metadata": {
        "colab": {
          "base_uri": "https://localhost:8080/"
        },
        "id": "nGLQ4rgWJ4z-",
        "outputId": "efb4dd42-c316-48ae-ddd1-0c608781d781"
      },
      "execution_count": null,
      "outputs": [
        {
          "output_type": "stream",
          "name": "stdout",
          "text": [
            "Mounted at /content/drive\n"
          ]
        }
      ]
    },
    {
      "cell_type": "code",
      "source": [
        "from sklearn.model_selection import train_test_split\n",
        "# ======================== Directories and DataFrames ========================\n",
        "base_path = \"/content\"\n",
        "# Load and combine all labeled training data\n",
        "all_image_paths = []\n",
        "all_labels = []\n",
        "\n",
        "for file_name in os.listdir(base_path):\n",
        "    if file_name.startswith(\"training-\") and file_name.endswith(\".csv\"):\n",
        "        train_file_path = os.path.join(base_path, file_name)\n",
        "        labels_df = pd.read_csv(train_file_path)\n",
        "        folder_name = file_name.replace(\".csv\", \"\")\n",
        "        folder_path = os.path.join(base_path, folder_name)\n",
        "\n",
        "        if os.path.exists(folder_path):\n",
        "            for _, row in labels_df.iterrows():\n",
        "                image_file = row['filename']\n",
        "                label = row['digit']\n",
        "                image_path = os.path.join(folder_path, image_file)\n",
        "                all_image_paths.append(image_path)\n",
        "                all_labels.append(label)\n",
        "\n",
        "\n",
        "\n",
        "\n",
        "\n",
        "\n",
        "\n",
        "X_train, X_test, y_train, y_test = train_test_split(\n",
        "    all_image_paths, all_labels, test_size=0.2, random_state=42, stratify=all_labels)\n",
        "\n",
        "# ===================== Create DataFrames =====================\n",
        "train_df = pd.DataFrame({\"image_path\": X_train, \"label\": y_train})\n",
        "test_df = pd.DataFrame({\"image_path\": X_test, \"label\": y_test})\n",
        "\n",
        "\n",
        "print(f\"Total training images: {len(train_df)}\")\n",
        "print(f\"Total testing images: {len(test_df)}\")"
      ],
      "metadata": {
        "colab": {
          "base_uri": "https://localhost:8080/"
        },
        "id": "QLhuq_jHtn_M",
        "outputId": "9fc30eac-660f-49fd-bd6d-5d2c8414cea8"
      },
      "execution_count": null,
      "outputs": [
        {
          "output_type": "stream",
          "name": "stdout",
          "text": [
            "Total training images: 57636\n",
            "Total testing images: 14409\n"
          ]
        }
      ]
    },
    {
      "cell_type": "code",
      "source": [],
      "metadata": {
        "id": "dKDrTC8dvqg8"
      },
      "execution_count": null,
      "outputs": []
    },
    {
      "cell_type": "code",
      "source": [
        "print(train_df['label'].unique())  # Check unique labels in the dataset\n",
        "print(train_df['label'].nunique())"
      ],
      "metadata": {
        "colab": {
          "base_uri": "https://localhost:8080/"
        },
        "id": "go68NBY-LYVD",
        "outputId": "dfa2eace-36ce-4b60-b87c-dc70fe2182f9"
      },
      "execution_count": null,
      "outputs": [
        {
          "output_type": "stream",
          "name": "stdout",
          "text": [
            "[8 9 5 7 6 0 3 1 2 4]\n",
            "10\n"
          ]
        }
      ]
    },
    {
      "cell_type": "code",
      "source": [
        "test_df.to_csv('/content/drive/My Drive/test_df_numtadb.csv', index=False)"
      ],
      "metadata": {
        "id": "TjINkTKd_llw"
      },
      "execution_count": null,
      "outputs": []
    },
    {
      "cell_type": "code",
      "source": [
        "# ======================== Data Preprocessing Function ========================\n",
        "def preprocess_image(file_path):\n",
        "    try:\n",
        "        img = cv2.imread(file_path, cv2.IMREAD_COLOR)\n",
        "        if img is None:\n",
        "            raise ValueError(f\"Image not found or unreadable: {file_path}\")\n",
        "        img = cv2.resize(img, (224, 224), interpolation=cv2.INTER_AREA)\n",
        "        return img\n",
        "    except Exception as e:\n",
        "        print(f\"Error processing image {file_path}: {e}\")\n",
        "        return np.zeros((224, 224, 3), dtype=np.uint8)  # Placeholder for missing/invalid images\n"
      ],
      "metadata": {
        "id": "4eejaSbrxjwv"
      },
      "execution_count": null,
      "outputs": []
    },
    {
      "cell_type": "code",
      "source": [
        "train_df['label'] = train_df['label'].astype(str)\n",
        "test_df['label'] = test_df['label'].astype(str)  # Or use a dummy class\n",
        "\n",
        "\n",
        "# ======================== Data Generators ========================\n",
        "train_datagen = ImageDataGenerator(preprocessing_function=tf.keras.applications.efficientnet.preprocess_input,\n",
        "                                   validation_split=0.2)\n",
        "\n",
        "train_generator = train_datagen.flow_from_dataframe(\n",
        "    dataframe=train_df,\n",
        "    x_col='image_path',\n",
        "    y_col='label',\n",
        "    target_size=(224, 224),\n",
        "    batch_size=16,\n",
        "    class_mode='categorical',\n",
        "    subset='training'\n",
        ")\n",
        "\n",
        "val_generator = train_datagen.flow_from_dataframe(\n",
        "    dataframe=train_df,\n",
        "    x_col='image_path',\n",
        "    y_col='label',\n",
        "    target_size=(224, 224),\n",
        "    batch_size=16,\n",
        "    class_mode='categorical',\n",
        "    subset='validation'\n",
        ")\n",
        "\n",
        "test_datagen = ImageDataGenerator(preprocessing_function=tf.keras.applications.efficientnet.preprocess_input)\n",
        "test_generator = test_datagen.flow_from_dataframe(\n",
        "    dataframe=test_df,\n",
        "    x_col='image_path',\n",
        "    y_col='label',  # Include labels here\n",
        "    target_size=(224, 224),\n",
        "    batch_size=16,\n",
        "    class_mode='categorical',  # Ensure class mode is categorical\n",
        "    shuffle=False\n",
        ")\n"
      ],
      "metadata": {
        "id": "q8L5YLNWxj0r"
      },
      "execution_count": null,
      "outputs": []
    },
    {
      "cell_type": "code",
      "source": [
        "import numpy as np\n",
        "unique_labels, counts = np.unique(test_generator.labels, return_counts=True)\n",
        "print(dict(zip(unique_labels, counts)))\n",
        "\n",
        "\n"
      ],
      "metadata": {
        "colab": {
          "base_uri": "https://localhost:8080/"
        },
        "id": "A_ecp-27vBFF",
        "outputId": "fefdb0f0-69d1-47b7-feb5-b7786214a82b"
      },
      "execution_count": null,
      "outputs": [
        {
          "output_type": "stream",
          "name": "stdout",
          "text": [
            "{np.int64(0): np.int64(1448), np.int64(1): np.int64(1439), np.int64(2): np.int64(1445), np.int64(3): np.int64(1447), np.int64(4): np.int64(1450), np.int64(5): np.int64(1448), np.int64(6): np.int64(1442), np.int64(7): np.int64(1436), np.int64(8): np.int64(1431), np.int64(9): np.int64(1423)}\n"
          ]
        }
      ]
    },
    {
      "cell_type": "code",
      "source": [
        "print(test_df.head())  # Ensure 'label' column contains correct values\n"
      ],
      "metadata": {
        "colab": {
          "base_uri": "https://localhost:8080/"
        },
        "id": "V_sS2k7jwv8D",
        "outputId": "41a56ee8-7676-4038-8beb-9c9994a0a989"
      },
      "execution_count": null,
      "outputs": [
        {
          "output_type": "stream",
          "name": "stdout",
          "text": [
            "                       image_path label\n",
            "0  /content/training-e/e03440.png     6\n",
            "1  /content/training-a/a03102.png     2\n",
            "2  /content/training-e/e11936.png     4\n",
            "3  /content/training-e/e11757.png     3\n",
            "4  /content/training-a/a08913.png     6\n"
          ]
        }
      ]
    },
    {
      "cell_type": "code",
      "source": [
        "# ======================== EfficientNet-B0 Model ========================\n",
        "base_model = EfficientNetB0(weights='imagenet', include_top=False, input_shape=(224, 224, 3))\n",
        "base_model.trainable = False  # Freeze base model\n",
        "\n",
        "x = base_model.output\n",
        "x = GlobalAveragePooling2D()(x)\n",
        "x = Dense(128, activation='relu')(x)\n",
        "x = Dropout(0.3)(x)\n",
        "x = Dense(64, activation='relu', kernel_regularizer=tf.keras.regularizers.l2(0.001))(x)#####ekhane edit\n",
        "x = Dropout(0.3)(x)\n",
        "output = Dense(len(train_df['label'].unique()), activation='softmax', dtype='float32')(x)\n",
        "\n",
        "\n",
        "model = Model(inputs=base_model.input, outputs=output)\n",
        "\n",
        "model.compile(optimizer='adam', loss='categorical_crossentropy', metrics=['accuracy'])\n",
        "\n",
        "# ======================== Callbacks ========================\n",
        "checkpoint = ModelCheckpoint('best_model.keras', monitor='val_accuracy', save_best_only=True, mode='max')\n",
        "\n",
        "early_stopping = EarlyStopping(monitor='val_accuracy', patience=5, restore_best_weights=True)\n"
      ],
      "metadata": {
        "id": "5Q4akRYMxj67",
        "colab": {
          "base_uri": "https://localhost:8080/"
        },
        "outputId": "e16bc30c-830e-4d5f-e89f-c8b941f2c4f8"
      },
      "execution_count": null,
      "outputs": [
        {
          "output_type": "stream",
          "name": "stdout",
          "text": [
            "Downloading data from https://storage.googleapis.com/keras-applications/efficientnetb0_notop.h5\n",
            "\u001b[1m16705208/16705208\u001b[0m \u001b[32m━━━━━━━━━━━━━━━━━━━━\u001b[0m\u001b[37m\u001b[0m \u001b[1m0s\u001b[0m 0us/step\n"
          ]
        }
      ]
    },
    {
      "cell_type": "code",
      "source": [
        "# ======================== Model Training ========================\n",
        "history = model.fit(\n",
        "    train_generator,\n",
        "    validation_data=val_generator,\n",
        "    epochs=20,\n",
        "    callbacks=[checkpoint, early_stopping]\n",
        ")"
      ],
      "metadata": {
        "colab": {
          "base_uri": "https://localhost:8080/"
        },
        "id": "jQRp_VLqx4Rw",
        "outputId": "261f83a2-3c49-46d4-ecf7-c998722d77e2"
      },
      "execution_count": null,
      "outputs": [
        {
          "output_type": "stream",
          "name": "stdout",
          "text": [
            "Epoch 1/20\n"
          ]
        },
        {
          "output_type": "stream",
          "name": "stderr",
          "text": [
            "/usr/local/lib/python3.11/dist-packages/keras/src/trainers/data_adapters/py_dataset_adapter.py:121: UserWarning: Your `PyDataset` class should call `super().__init__(**kwargs)` in its constructor. `**kwargs` can include `workers`, `use_multiprocessing`, `max_queue_size`. Do not pass these arguments to `fit()`, as they will be ignored.\n",
            "  self._warn_if_super_not_called()\n"
          ]
        },
        {
          "output_type": "stream",
          "name": "stdout",
          "text": [
            "\u001b[1m2882/2882\u001b[0m \u001b[32m━━━━━━━━━━━━━━━━━━━━\u001b[0m\u001b[37m\u001b[0m \u001b[1m181s\u001b[0m 53ms/step - accuracy: 0.7258 - loss: 0.8722 - val_accuracy: 0.9540 - val_loss: 0.2011\n",
            "Epoch 2/20\n",
            "\u001b[1m2882/2882\u001b[0m \u001b[32m━━━━━━━━━━━━━━━━━━━━\u001b[0m\u001b[37m\u001b[0m \u001b[1m120s\u001b[0m 42ms/step - accuracy: 0.9192 - loss: 0.3127 - val_accuracy: 0.9596 - val_loss: 0.1616\n",
            "Epoch 3/20\n",
            "\u001b[1m2882/2882\u001b[0m \u001b[32m━━━━━━━━━━━━━━━━━━━━\u001b[0m\u001b[37m\u001b[0m \u001b[1m139s\u001b[0m 48ms/step - accuracy: 0.9309 - loss: 0.2627 - val_accuracy: 0.9603 - val_loss: 0.1574\n",
            "Epoch 4/20\n",
            "\u001b[1m2882/2882\u001b[0m \u001b[32m━━━━━━━━━━━━━━━━━━━━\u001b[0m\u001b[37m\u001b[0m \u001b[1m140s\u001b[0m 48ms/step - accuracy: 0.9396 - loss: 0.2299 - val_accuracy: 0.9649 - val_loss: 0.1404\n",
            "Epoch 5/20\n",
            "\u001b[1m2882/2882\u001b[0m \u001b[32m━━━━━━━━━━━━━━━━━━━━\u001b[0m\u001b[37m\u001b[0m \u001b[1m137s\u001b[0m 48ms/step - accuracy: 0.9452 - loss: 0.2044 - val_accuracy: 0.9690 - val_loss: 0.1226\n",
            "Epoch 6/20\n",
            "\u001b[1m2882/2882\u001b[0m \u001b[32m━━━━━━━━━━━━━━━━━━━━\u001b[0m\u001b[37m\u001b[0m \u001b[1m120s\u001b[0m 42ms/step - accuracy: 0.9500 - loss: 0.1912 - val_accuracy: 0.9662 - val_loss: 0.1341\n",
            "Epoch 7/20\n",
            "\u001b[1m2882/2882\u001b[0m \u001b[32m━━━━━━━━━━━━━━━━━━━━\u001b[0m\u001b[37m\u001b[0m \u001b[1m161s\u001b[0m 48ms/step - accuracy: 0.9511 - loss: 0.1829 - val_accuracy: 0.9704 - val_loss: 0.1164\n",
            "Epoch 8/20\n",
            "\u001b[1m2882/2882\u001b[0m \u001b[32m━━━━━━━━━━━━━━━━━━━━\u001b[0m\u001b[37m\u001b[0m \u001b[1m119s\u001b[0m 41ms/step - accuracy: 0.9520 - loss: 0.1807 - val_accuracy: 0.9699 - val_loss: 0.1205\n",
            "Epoch 9/20\n",
            "\u001b[1m2882/2882\u001b[0m \u001b[32m━━━━━━━━━━━━━━━━━━━━\u001b[0m\u001b[37m\u001b[0m \u001b[1m116s\u001b[0m 40ms/step - accuracy: 0.9526 - loss: 0.1720 - val_accuracy: 0.9688 - val_loss: 0.1227\n",
            "Epoch 10/20\n",
            "\u001b[1m2882/2882\u001b[0m \u001b[32m━━━━━━━━━━━━━━━━━━━━\u001b[0m\u001b[37m\u001b[0m \u001b[1m122s\u001b[0m 42ms/step - accuracy: 0.9562 - loss: 0.1692 - val_accuracy: 0.9734 - val_loss: 0.1133\n",
            "Epoch 11/20\n",
            "\u001b[1m2882/2882\u001b[0m \u001b[32m━━━━━━━━━━━━━━━━━━━━\u001b[0m\u001b[37m\u001b[0m \u001b[1m121s\u001b[0m 42ms/step - accuracy: 0.9569 - loss: 0.1577 - val_accuracy: 0.9732 - val_loss: 0.1107\n",
            "Epoch 12/20\n",
            "\u001b[1m2882/2882\u001b[0m \u001b[32m━━━━━━━━━━━━━━━━━━━━\u001b[0m\u001b[37m\u001b[0m \u001b[1m116s\u001b[0m 40ms/step - accuracy: 0.9585 - loss: 0.1562 - val_accuracy: 0.9696 - val_loss: 0.1241\n",
            "Epoch 13/20\n",
            "\u001b[1m2882/2882\u001b[0m \u001b[32m━━━━━━━━━━━━━━━━━━━━\u001b[0m\u001b[37m\u001b[0m \u001b[1m139s\u001b[0m 48ms/step - accuracy: 0.9585 - loss: 0.1520 - val_accuracy: 0.9733 - val_loss: 0.1116\n",
            "Epoch 14/20\n",
            "\u001b[1m2882/2882\u001b[0m \u001b[32m━━━━━━━━━━━━━━━━━━━━\u001b[0m\u001b[37m\u001b[0m \u001b[1m137s\u001b[0m 47ms/step - accuracy: 0.9603 - loss: 0.1519 - val_accuracy: 0.9769 - val_loss: 0.1022\n",
            "Epoch 15/20\n",
            "\u001b[1m2882/2882\u001b[0m \u001b[32m━━━━━━━━━━━━━━━━━━━━\u001b[0m\u001b[37m\u001b[0m \u001b[1m119s\u001b[0m 41ms/step - accuracy: 0.9636 - loss: 0.1421 - val_accuracy: 0.9733 - val_loss: 0.1079\n",
            "Epoch 16/20\n",
            "\u001b[1m2882/2882\u001b[0m \u001b[32m━━━━━━━━━━━━━━━━━━━━\u001b[0m\u001b[37m\u001b[0m \u001b[1m120s\u001b[0m 42ms/step - accuracy: 0.9627 - loss: 0.1407 - val_accuracy: 0.9738 - val_loss: 0.1117\n",
            "Epoch 17/20\n",
            "\u001b[1m2882/2882\u001b[0m \u001b[32m━━━━━━━━━━━━━━━━━━━━\u001b[0m\u001b[37m\u001b[0m \u001b[1m118s\u001b[0m 41ms/step - accuracy: 0.9630 - loss: 0.1381 - val_accuracy: 0.9709 - val_loss: 0.1131\n",
            "Epoch 18/20\n",
            "\u001b[1m2882/2882\u001b[0m \u001b[32m━━━━━━━━━━━━━━━━━━━━\u001b[0m\u001b[37m\u001b[0m \u001b[1m116s\u001b[0m 40ms/step - accuracy: 0.9651 - loss: 0.1391 - val_accuracy: 0.9736 - val_loss: 0.1138\n",
            "Epoch 19/20\n",
            "\u001b[1m2882/2882\u001b[0m \u001b[32m━━━━━━━━━━━━━━━━━━━━\u001b[0m\u001b[37m\u001b[0m \u001b[1m142s\u001b[0m 40ms/step - accuracy: 0.9668 - loss: 0.1293 - val_accuracy: 0.9748 - val_loss: 0.1040\n"
          ]
        }
      ]
    },
    {
      "cell_type": "code",
      "source": [
        "# ======================== Model Evaluation ========================\n",
        "predictions = model.predict(test_generator)\n",
        "predicted_labels = np.argmax(predictions, axis=1)\n",
        "\n",
        "print(\"Test predictions completed.\")\n",
        "\n",
        "# Save the predictions\n",
        "np.save(\"/content/drive/My Drive/test_predictions_numtadb.npy\", predicted_labels)\n"
      ],
      "metadata": {
        "id": "bDbRFussx4WE",
        "colab": {
          "base_uri": "https://localhost:8080/"
        },
        "outputId": "93ac8dc5-cff8-47b9-837d-6737a7e91f0e"
      },
      "execution_count": null,
      "outputs": [
        {
          "output_type": "stream",
          "name": "stdout",
          "text": [
            "\u001b[1m901/901\u001b[0m \u001b[32m━━━━━━━━━━━━━━━━━━━━\u001b[0m\u001b[37m\u001b[0m \u001b[1m44s\u001b[0m 41ms/step\n",
            "Test predictions completed.\n"
          ]
        }
      ]
    },
    {
      "cell_type": "code",
      "source": [
        "from sklearn.metrics import accuracy_score, classification_report, confusion_matrix, roc_curve, auc, precision_recall_curve\n",
        "import matplotlib.pyplot as plt\n",
        "from sklearn.manifold import TSNE\n",
        "from tensorflow.keras.utils import to_categorical\n",
        "\n",
        "# Get ground truth labels from generator\n",
        "y_true = test_generator.labels  # integer encoded\n",
        "class_indices = test_generator.class_indices\n",
        "class_names = list(class_indices.keys())\n",
        "\n",
        "# Accuracy & classification report\n",
        "acc = accuracy_score(y_true, predicted_labels)\n",
        "print(f\"Test Accuracy: {acc:.2f}\\n\")\n",
        "\n",
        "print(\" Classification Report:\")\n",
        "print(classification_report(y_true, predicted_labels, target_names=class_names))\n"
      ],
      "metadata": {
        "colab": {
          "base_uri": "https://localhost:8080/"
        },
        "id": "HsguUF1O0pyO",
        "outputId": "2e439867-5df7-4adf-80bb-e88cde00bf4e"
      },
      "execution_count": null,
      "outputs": [
        {
          "output_type": "stream",
          "name": "stdout",
          "text": [
            "Test Accuracy: 0.97\n",
            "\n",
            " Classification Report:\n",
            "\n",
            "              precision    recall  f1-score   support\n",
            "\n",
            "           0       0.9901    0.9903    0.9902    1448\n",
            "           1       0.9382    0.9104    0.9241    1439\n",
            "           2       0.9619    0.9519    0.9569    1445\n",
            "           3       0.9403    0.9216    0.9309    1447\n",
            "           4       0.9911    0.9910    0.9910    1450\n",
            "           5       0.9548    0.9538    0.9543    1448\n",
            "           6       0.9284    0.9126    0.9204    1442\n",
            "           7       0.9896    0.9896    0.9896    1436\n",
            "           8       0.9790    0.9787    0.9788    1431\n",
            "           9       0.9312    0.9113    0.9211    1423\n",
            "\n",
            "    accuracy                           0.9660   14409\n",
            "   macro avg       0.9605    0.9511    0.9557   14409\n",
            "weighted avg       0.9659    0.9660    0.9659   14409\n",
            "    \n"
          ]
        }
      ]
    },
    {
      "cell_type": "code",
      "source": [
        "from sklearn.metrics import confusion_matrix\n",
        "import seaborn as sns\n",
        "\n",
        "cm = confusion_matrix(y_true, predicted_labels)\n",
        "plt.figure(figsize=(10, 8))\n",
        "sns.heatmap(cm, annot=True, fmt=\"d\", cmap=\"Blues\", xticklabels=class_names, yticklabels=class_names)\n",
        "plt.xlabel(\"Predicted Label\")\n",
        "plt.ylabel(\"True Label\")\n",
        "plt.title(\"Confusion Matrix\")\n",
        "plt.show()\n",
        "\n"
      ],
      "metadata": {
        "colab": {
          "base_uri": "https://localhost:8080/",
          "height": 807
        },
        "id": "BZ6PepCc11CU",
        "outputId": "440b810e-4179-4fb3-a927-08b15f600888"
      },
      "execution_count": null,
      "outputs": [
        {
          "output_type": "display_data",
          "data": {
            "text/plain": [
              "<Figure size 1000x800 with 2 Axes>"
            ],
            "image/png": "[encoded data removed]"
          },
          "metadata": {}
        }
      ]
    }
  ]
}