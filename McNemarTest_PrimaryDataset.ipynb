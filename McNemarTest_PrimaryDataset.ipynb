{
  "cells": [
    {
      "cell_type": "markdown",
      "metadata": {
        "id": "view-in-github",
        "colab_type": "text"
      },
      "source": [
        "<a href=\"https://colab.research.google.com/github/A-H-Sumon/FusionNet/blob/main/McNemarTest_PrimaryDataset.ipynb\" target=\"_parent\"><img src=\"https://colab.research.google.com/assets/colab-badge.svg\" alt=\"Open In Colab\"/></a>"
      ]
    },
    {
      "cell_type": "code",
      "execution_count": null,
      "metadata": {
        "id": "95686169"
      },
      "outputs": [],
      "source": [
        "\n",
        "import numpy as np\n",
        "import tensorflow as tf\n",
        "from tensorflow.keras.preprocessing.image import ImageDataGenerator\n",
        "from joblib import Parallel, delayed\n",
        "import multiprocessing\n",
        "\n",
        "import os\n",
        "import cv2\n",
        "import numpy as np\n",
        "import pandas as pd\n",
        "from sklearn.model_selection import train_test_split\n",
        "from sklearn.preprocessing import StandardScaler, LabelEncoder\n",
        "from sklearn.metrics import classification_report, confusion_matrix\n",
        "from sklearn.neighbors import NearestNeighbors\n",
        "from tensorflow.keras.models import Sequential\n",
        "from tensorflow.keras.layers import Dense, Dropout\n",
        "from tensorflow.keras.utils import to_categorical\n",
        "from tensorflow.keras.preprocessing.image import ImageDataGenerator\n",
        "from skimage.feature import hog\n",
        "from skimage.filters import gabor\n",
        "from joblib import Parallel, delayed\n",
        "import multiprocessing\n",
        "from termcolor import colored\n",
        "\n",
        "from sklearn.model_selection import StratifiedKFold\n",
        "from sklearn.metrics import accuracy_score, classification_report, confusion_matrix\n",
        "from tensorflow.keras.callbacks import ReduceLROnPlateau\n",
        "from tensorflow.keras.models import Sequential\n",
        "from tensorflow.keras.layers import Dense, Dropout, BatchNormalization\n",
        "from tensorflow.keras.optimizers import Adam"
      ]
    },
    {
      "cell_type": "code",
      "source": [],
      "metadata": {
        "id": "-kr1iv78nqUM"
      },
      "execution_count": null,
      "outputs": []
    },
    {
      "cell_type": "code",
      "source": [],
      "metadata": {
        "id": "VPga7XY3ISRm"
      },
      "execution_count": null,
      "outputs": []
    },
    {
      "cell_type": "code",
      "execution_count": null,
      "metadata": {
        "id": "bea446c1",
        "colab": {
          "base_uri": "https://localhost:8080/"
        },
        "outputId": "f79841db-6adb-49e5-d42c-438768ddb363"
      },
      "outputs": [
        {
          "output_type": "stream",
          "name": "stdout",
          "text": [
            "Drive already mounted at /content/drive; to attempt to forcibly remount, call drive.mount(\"/content/drive\", force_remount=True).\n"
          ]
        }
      ],
      "source": [
        "from google.colab import drive\n",
        "drive.mount('/content/drive')\n"
      ]
    },
    {
      "cell_type": "code",
      "source": [
        "from sklearn.model_selection import train_test_split\n",
        "\n",
        "# Load dataset\n",
        "df = pd.read_csv(\"/content/drive/My Drive/dataset.csv\", dtype=str)  # Ensure paths are read as strings\n",
        "\n",
        "# Define features and labels\n",
        "X = df[\"image_path\"]  # Image paths\n",
        "y = df[\"label\"].astype(int)  # Labels as integers\n",
        "\n",
        "# Split into 80% training, 20% testing\n",
        "X_train, X_test, y_train, y_test = train_test_split(X, y, test_size=0.2, random_state=42, stratify=y, shuffle=True)\n",
        "\n",
        "# Create DataFrames\n",
        "train_df = pd.DataFrame({\"image_path\": X_train, \"label\": y_train})\n",
        "test_df = pd.read_csv('/content/drive/MyDrive/test_df.csv')\n",
        "\n",
        "\n"
      ],
      "metadata": {
        "id": "tVMbNwAdnSSr"
      },
      "execution_count": null,
      "outputs": []
    },
    {
      "cell_type": "code",
      "execution_count": null,
      "metadata": {
        "colab": {
          "base_uri": "https://localhost:8080/"
        },
        "id": "4f8da4f0",
        "outputId": "b9bd2620-5544-44b3-bb54-d74f4a55e2f6"
      },
      "outputs": [
        {
          "output_type": "stream",
          "name": "stdout",
          "text": [
            "Total training images: 1672\n",
            "Total testing images: 418\n"
          ]
        }
      ],
      "source": [
        "print(f\"Total training images: {len(train_df)}\")\n",
        "print(f\"Total testing images: {len(test_df)}\")"
      ]
    },
    {
      "cell_type": "code",
      "execution_count": null,
      "metadata": {
        "id": "1c163614"
      },
      "outputs": [],
      "source": [
        "import cv2\n",
        "import numpy as np\n",
        "import cv2.ximgproc as xip\n",
        "\n",
        "def preprocess_image(file_path):\n",
        "    img = cv2.imread(file_path, cv2.IMREAD_GRAYSCALE)\n",
        "    if img is None:\n",
        "        return np.zeros((28, 28))  # Placeholder for missing images\n",
        "\n",
        "    # Apply Otsu's Thresholding\n",
        "    _, img = cv2.threshold(img, 0, 255, cv2.THRESH_BINARY + cv2.THRESH_OTSU)\n",
        "\n",
        "    # Resize image to 28x28\n",
        "    img = cv2.resize(img, (28, 28), interpolation=cv2.INTER_AREA) / 255.0\n",
        "\n",
        "    return img\n"
      ]
    },
    {
      "cell_type": "code",
      "source": [
        "# ======================== Load & Preprocess Images ========================\n",
        "train_images = np.array([preprocess_image(fp) for fp in train_df['image_path'].values])"
      ],
      "metadata": {
        "id": "M9io7DBwNbGK"
      },
      "execution_count": null,
      "outputs": []
    },
    {
      "cell_type": "code",
      "execution_count": null,
      "metadata": {
        "id": "0c9f1f30"
      },
      "outputs": [],
      "source": [
        "import cv2\n",
        "import numpy as np\n",
        "import multiprocessing\n",
        "from joblib import Parallel, delayed\n",
        "from tensorflow.keras.preprocessing.image import ImageDataGenerator\n",
        "import random\n",
        "\n",
        "\n",
        "\n",
        "def augment_image(img):\n",
        "    rows, cols = img.shape\n",
        "\n",
        "\n",
        "\n",
        "    # Random Rotation\n",
        "    angle = random.uniform(-15, 15)\n",
        "    M = cv2.getRotationMatrix2D((cols / 2, rows / 2), angle, 1)\n",
        "    rotated = cv2.warpAffine(img, M, (cols, rows))\n",
        "\n",
        "    # Random Shifting\n",
        "    tx = random.uniform(-2, 2)\n",
        "    ty = random.uniform(-2, 2)\n",
        "    M_shift = np.float32([[1, 0, tx], [0, 1, ty]])\n",
        "    shifted = cv2.warpAffine(rotated, M_shift, (cols, rows))\n",
        "\n",
        "    return shifted\n",
        "\n",
        "def augment_dataset(train_images):\n",
        "    \"\"\"Applies augmentation to a dataset using parallel processing.\"\"\"\n",
        "    num_cores = multiprocessing.cpu_count()\n",
        "    augmented_images = Parallel(n_jobs=num_cores)(\n",
        "        delayed(augment_image)(img) for img in train_images\n",
        "    )\n",
        "    return np.array(augmented_images)\n",
        "\n",
        "# Apply augmentation to dataset\n",
        "augmented_images = augment_dataset(train_images)\n",
        "\n"
      ]
    },
    {
      "cell_type": "code",
      "source": [
        "cores = multiprocessing.cpu_count()\n",
        "print(cores)"
      ],
      "metadata": {
        "colab": {
          "base_uri": "https://localhost:8080/"
        },
        "id": "EVdthSUnGwyg",
        "outputId": "48e4e4a0-af89-47ca-ce62-caffd01b8230"
      },
      "execution_count": null,
      "outputs": [
        {
          "output_type": "stream",
          "name": "stdout",
          "text": [
            "2\n"
          ]
        }
      ]
    },
    {
      "cell_type": "code",
      "source": [
        "\n",
        "\n",
        "!pip install mahotas\n"
      ],
      "metadata": {
        "colab": {
          "base_uri": "https://localhost:8080/"
        },
        "id": "r8zA8_UCPXMD",
        "outputId": "c02eb6b9-11c1-4cef-f828-5bff847736bc"
      },
      "execution_count": null,
      "outputs": [
        {
          "output_type": "stream",
          "name": "stdout",
          "text": [
            "Requirement already satisfied: mahotas in /usr/local/lib/python3.11/dist-packages (1.4.18)\n",
            "Requirement already satisfied: numpy in /usr/local/lib/python3.11/dist-packages (from mahotas) (2.0.2)\n"
          ]
        }
      ]
    },
    {
      "cell_type": "code",
      "execution_count": null,
      "metadata": {
        "id": "9060b8d6"
      },
      "outputs": [],
      "source": [
        "from joblib import Parallel, delayed\n",
        "import numpy as np\n",
        "import multiprocessing\n",
        "from skimage.feature import hog, local_binary_pattern\n",
        "from skimage.filters import gabor\n",
        "from mahotas.features import zernike_moments\n",
        "\n",
        "# Feature Extraction\n",
        "def extract_features_single(img):\n",
        "     # Extract HOG features\n",
        "    hog_features = hog(img, pixels_per_cell=(4, 4), cells_per_block=(2, 2), feature_vector=True)\n",
        "\n",
        "    # Extract Gabor features\n",
        "    gabor_response_real, gabor_response_imag = gabor(img, frequency=0.6)\n",
        "    gabor_features = np.mean(gabor_response_real) + np.mean(gabor_response_imag)\n",
        "\n",
        "    # Extract LBP features\n",
        "    lbp = local_binary_pattern(img, P=8, R=1, method=\"uniform\")\n",
        "    lbp_hist, _ = np.histogram(lbp.ravel(), bins=np.arange(0, 10), range=(0, 10))\n",
        "    lbp_hist = lbp_hist.astype(\"float\")\n",
        "    lbp_hist /= lbp_hist.sum()  # Normalize LBP histogram\n",
        "\n",
        "    return np.hstack([hog_features, gabor_features, lbp_hist])\n",
        "\n",
        "def extract_features(images):\n",
        "    num_cores = multiprocessing.cpu_count()\n",
        "    features = Parallel(n_jobs=num_cores)(delayed(extract_features_single)(img) for img in images)\n",
        "    return np.array(features)\n",
        "\n",
        "# Apply feature extraction\n",
        "augmented_features = extract_features(augmented_images)\n",
        "\n"
      ]
    },
    {
      "cell_type": "code",
      "execution_count": null,
      "metadata": {
        "id": "5c02952b"
      },
      "outputs": [],
      "source": [
        "# ======================== Data Preparation ========================\n",
        "X_train_preprocessed = np.array([preprocess_image(fp) for fp in train_df['image_path']])\n",
        "X_test_preprocessed = np.array([preprocess_image(fp) for fp in test_df['image_path']])"
      ]
    },
    {
      "cell_type": "code",
      "source": [
        "# Apply augmentation\n",
        "X_train_augmented = augment_dataset(X_train_preprocessed)\n",
        "\n",
        "\n"
      ],
      "metadata": {
        "id": "nsq32NpNTfXP"
      },
      "execution_count": null,
      "outputs": []
    },
    {
      "cell_type": "code",
      "source": [
        "# Extract features from augmented images\n",
        "X_train_features = extract_features(X_train_augmented)\n",
        "X_test_features = extract_features(X_test_preprocessed)  # No augmentation for test set"
      ],
      "metadata": {
        "id": "exrR8qUkTfZ7"
      },
      "execution_count": null,
      "outputs": []
    },
    {
      "cell_type": "code",
      "execution_count": null,
      "metadata": {
        "id": "77d5a6f4"
      },
      "outputs": [],
      "source": [
        "scaler = StandardScaler()\n",
        "X_train_features = scaler.fit_transform(X_train_features)\n",
        "X_test_features = scaler.transform(X_test_features)\n",
        "\n",
        "encoder = LabelEncoder()\n",
        "y_train = encoder.fit_transform(train_df['label'])\n",
        "y_test = encoder.fit_transform(test_df['label'])"
      ]
    },
    {
      "cell_type": "code",
      "execution_count": null,
      "metadata": {
        "id": "1fd3216e",
        "colab": {
          "base_uri": "https://localhost:8080/"
        },
        "outputId": "ed63cd37-2746-41d2-b026-c8f614969b0c"
      },
      "outputs": [
        {
          "output_type": "stream",
          "name": "stdout",
          "text": [
            "Requirement already satisfied: optuna in /usr/local/lib/python3.11/dist-packages (4.4.0)\n",
            "Requirement already satisfied: alembic>=1.5.0 in /usr/local/lib/python3.11/dist-packages (from optuna) (1.16.4)\n",
            "Requirement already satisfied: colorlog in /usr/local/lib/python3.11/dist-packages (from optuna) (6.9.0)\n",
            "Requirement already satisfied: numpy in /usr/local/lib/python3.11/dist-packages (from optuna) (2.0.2)\n",
            "Requirement already satisfied: packaging>=20.0 in /usr/local/lib/python3.11/dist-packages (from optuna) (25.0)\n",
            "Requirement already satisfied: sqlalchemy>=1.4.2 in /usr/local/lib/python3.11/dist-packages (from optuna) (2.0.42)\n",
            "Requirement already satisfied: tqdm in /usr/local/lib/python3.11/dist-packages (from optuna) (4.67.1)\n",
            "Requirement already satisfied: PyYAML in /usr/local/lib/python3.11/dist-packages (from optuna) (6.0.2)\n",
            "Requirement already satisfied: Mako in /usr/lib/python3/dist-packages (from alembic>=1.5.0->optuna) (1.1.3)\n",
            "Requirement already satisfied: typing-extensions>=4.12 in /usr/local/lib/python3.11/dist-packages (from alembic>=1.5.0->optuna) (4.14.1)\n",
            "Requirement already satisfied: greenlet>=1 in /usr/local/lib/python3.11/dist-packages (from sqlalchemy>=1.4.2->optuna) (3.2.3)\n"
          ]
        }
      ],
      "source": [
        "!pip install optuna\n",
        "\n"
      ]
    },
    {
      "cell_type": "code",
      "source": [
        "import cv2\n",
        "import numpy as np\n",
        "from glob import glob\n",
        "\n",
        "def load_images(image_paths):\n",
        "    data = []\n",
        "    for path in image_paths:\n",
        "        img = cv2.imread(path, cv2.IMREAD_GRAYSCALE)  # Read as grayscale\n",
        "        img = cv2.resize(img, (64, 64))  # Resize to a fixed size\n",
        "        img = img.flatten()  # Convert to 1D array\n",
        "        data.append(img)\n",
        "    return np.array(data)\n",
        "\n",
        "# Assuming X_train originally contains image file paths\n",
        "X_train = load_images(X_train)\n"
      ],
      "metadata": {
        "id": "GE7IHILLiyvx"
      },
      "execution_count": null,
      "outputs": []
    },
    {
      "cell_type": "code",
      "source": [
        "import optuna\n",
        "from sklearn.neighbors import KNeighborsClassifier\n",
        "from sklearn.model_selection import cross_val_score\n",
        "\n",
        "def objective(trial):\n",
        "    \"\"\"Objective function for optimizing KNN hyperparameters.\"\"\"\n",
        "\n",
        "    # Hyperparameters to optimize\n",
        "    k = trial.suggest_int('n_neighbors', 3, 15)  # Number of neighbors\n",
        "    metric = trial.suggest_categorical('metric', ['euclidean', 'manhattan', 'minkowski'])\n",
        "    weights = trial.suggest_categorical('weights', ['uniform', 'distance'])\n",
        "\n",
        "    # Initialize KNN classifier\n",
        "    knn_model = KNeighborsClassifier(n_neighbors=k, metric=metric, weights=weights)\n",
        "\n",
        "    # Perform cross-validation to get accuracy\n",
        "    score = cross_val_score(knn_model, X_train, y_train, cv=5, scoring='accuracy').mean()\n",
        "\n",
        "    return score  # Return the mean cross-validation accuracy"
      ],
      "metadata": {
        "id": "lv5AK_wjiamz"
      },
      "execution_count": null,
      "outputs": []
    },
    {
      "cell_type": "code",
      "source": [
        "study_knn = optuna.create_study(direction='maximize')  # Maximize accuracy\n",
        "study_knn.optimize(objective, n_trials=50)  # Run 50 trials\n",
        "\n",
        "# Get the best parameters\n",
        "best_knn_params = study_knn.best_params\n",
        "print(\"Best KNN hyperparameters:\", best_knn_params)"
      ],
      "metadata": {
        "colab": {
          "base_uri": "https://localhost:8080/"
        },
        "id": "whSJfi1oV0vl",
        "outputId": "a1f40cbd-9b3c-4aa1-caaa-35686264a67c"
      },
      "execution_count": null,
      "outputs": [
        {
          "output_type": "stream",
          "name": "stderr",
          "text": [
            "[I 2025-08-01 17:21:02,493] A new study created in memory with name: no-name-a94d85a3-19b4-455a-90dc-a7ced56288d6\n",
            "[I 2025-08-01 17:21:04,194] Trial 0 finished with value: 0.7864831530967915 and parameters: {'n_neighbors': 13, 'metric': 'minkowski', 'weights': 'distance'}. Best is trial 0 with value: 0.7864831530967915.\n",
            "[I 2025-08-01 17:21:22,057] Trial 1 finished with value: 0.7721297703101261 and parameters: {'n_neighbors': 12, 'metric': 'manhattan', 'weights': 'distance'}. Best is trial 0 with value: 0.7864831530967915.\n",
            "[I 2025-08-01 17:21:35,547] Trial 2 finished with value: 0.7703351505943337 and parameters: {'n_neighbors': 14, 'metric': 'manhattan', 'weights': 'distance'}. Best is trial 0 with value: 0.7864831530967915.\n",
            "[I 2025-08-01 17:21:47,620] Trial 3 finished with value: 0.7512020734650102 and parameters: {'n_neighbors': 12, 'metric': 'manhattan', 'weights': 'uniform'}. Best is trial 0 with value: 0.7864831530967915.\n",
            "[I 2025-08-01 17:21:58,683] Trial 4 finished with value: 0.77572437215122 and parameters: {'n_neighbors': 10, 'metric': 'manhattan', 'weights': 'distance'}. Best is trial 0 with value: 0.7864831530967915.\n",
            "[I 2025-08-01 17:22:10,043] Trial 5 finished with value: 0.7703351505943337 and parameters: {'n_neighbors': 14, 'metric': 'manhattan', 'weights': 'distance'}. Best is trial 0 with value: 0.7864831530967915.\n",
            "[I 2025-08-01 17:22:11,054] Trial 6 finished with value: 0.7852783984270266 and parameters: {'n_neighbors': 12, 'metric': 'euclidean', 'weights': 'distance'}. Best is trial 0 with value: 0.7864831530967915.\n",
            "[I 2025-08-01 17:22:12,005] Trial 7 finished with value: 0.7757136473322014 and parameters: {'n_neighbors': 6, 'metric': 'euclidean', 'weights': 'uniform'}. Best is trial 0 with value: 0.7864831530967915.\n",
            "[I 2025-08-01 17:22:12,957] Trial 8 finished with value: 0.7697434980784699 and parameters: {'n_neighbors': 8, 'metric': 'minkowski', 'weights': 'uniform'}. Best is trial 0 with value: 0.7864831530967915.\n",
            "[I 2025-08-01 17:22:13,900] Trial 9 finished with value: 0.7775082670479935 and parameters: {'n_neighbors': 3, 'metric': 'minkowski', 'weights': 'uniform'}. Best is trial 0 with value: 0.7864831530967915.\n",
            "[I 2025-08-01 17:22:14,865] Trial 10 finished with value: 0.7822915363303244 and parameters: {'n_neighbors': 15, 'metric': 'minkowski', 'weights': 'distance'}. Best is trial 0 with value: 0.7864831530967915.\n",
            "[I 2025-08-01 17:22:15,813] Trial 11 finished with value: 0.7846921083206722 and parameters: {'n_neighbors': 11, 'metric': 'euclidean', 'weights': 'distance'}. Best is trial 0 with value: 0.7864831530967915.\n",
            "[I 2025-08-01 17:22:17,626] Trial 12 finished with value: 0.7912628474394495 and parameters: {'n_neighbors': 8, 'metric': 'euclidean', 'weights': 'distance'}. Best is trial 12 with value: 0.7912628474394495.\n",
            "[I 2025-08-01 17:22:19,602] Trial 13 finished with value: 0.7912628474394495 and parameters: {'n_neighbors': 8, 'metric': 'minkowski', 'weights': 'distance'}. Best is trial 12 with value: 0.7912628474394495.\n",
            "[I 2025-08-01 17:22:21,647] Trial 14 finished with value: 0.7912628474394495 and parameters: {'n_neighbors': 8, 'metric': 'euclidean', 'weights': 'distance'}. Best is trial 12 with value: 0.7912628474394495.\n",
            "[I 2025-08-01 17:22:22,669] Trial 15 finished with value: 0.794247922066315 and parameters: {'n_neighbors': 6, 'metric': 'minkowski', 'weights': 'distance'}. Best is trial 15 with value: 0.794247922066315.\n",
            "[I 2025-08-01 17:22:23,639] Trial 16 finished with value: 0.7936526946107785 and parameters: {'n_neighbors': 5, 'metric': 'euclidean', 'weights': 'distance'}. Best is trial 15 with value: 0.794247922066315.\n",
            "[I 2025-08-01 17:22:24,589] Trial 17 finished with value: 0.7936526946107785 and parameters: {'n_neighbors': 5, 'metric': 'minkowski', 'weights': 'distance'}. Best is trial 15 with value: 0.794247922066315.\n",
            "[I 2025-08-01 17:22:25,533] Trial 18 finished with value: 0.7793118241129682 and parameters: {'n_neighbors': 5, 'metric': 'euclidean', 'weights': 'uniform'}. Best is trial 15 with value: 0.794247922066315.\n",
            "[I 2025-08-01 17:22:26,500] Trial 19 finished with value: 0.7942532844758243 and parameters: {'n_neighbors': 3, 'metric': 'euclidean', 'weights': 'distance'}. Best is trial 19 with value: 0.7942532844758243.\n",
            "[I 2025-08-01 17:22:27,462] Trial 20 finished with value: 0.7942532844758243 and parameters: {'n_neighbors': 3, 'metric': 'minkowski', 'weights': 'distance'}. Best is trial 19 with value: 0.7942532844758243.\n",
            "[I 2025-08-01 17:22:28,420] Trial 21 finished with value: 0.7942532844758243 and parameters: {'n_neighbors': 3, 'metric': 'minkowski', 'weights': 'distance'}. Best is trial 19 with value: 0.7942532844758243.\n",
            "[I 2025-08-01 17:22:29,362] Trial 22 finished with value: 0.7942532844758243 and parameters: {'n_neighbors': 3, 'metric': 'minkowski', 'weights': 'distance'}. Best is trial 19 with value: 0.7942532844758243.\n",
            "[I 2025-08-01 17:22:30,314] Trial 23 finished with value: 0.7942532844758243 and parameters: {'n_neighbors': 3, 'metric': 'minkowski', 'weights': 'distance'}. Best is trial 19 with value: 0.7942532844758243.\n",
            "[I 2025-08-01 17:22:31,243] Trial 24 finished with value: 0.7924533023505228 and parameters: {'n_neighbors': 4, 'metric': 'minkowski', 'weights': 'distance'}. Best is trial 19 with value: 0.7942532844758243.\n",
            "[I 2025-08-01 17:22:32,633] Trial 25 finished with value: 0.7924533023505228 and parameters: {'n_neighbors': 4, 'metric': 'minkowski', 'weights': 'distance'}. Best is trial 19 with value: 0.7942532844758243.\n",
            "[I 2025-08-01 17:22:34,561] Trial 26 finished with value: 0.7757136473322014 and parameters: {'n_neighbors': 6, 'metric': 'euclidean', 'weights': 'uniform'}. Best is trial 19 with value: 0.7942532844758243.\n",
            "[I 2025-08-01 17:22:36,562] Trial 27 finished with value: 0.7942532844758243 and parameters: {'n_neighbors': 3, 'metric': 'minkowski', 'weights': 'distance'}. Best is trial 19 with value: 0.7942532844758243.\n",
            "[I 2025-08-01 17:22:38,064] Trial 28 finished with value: 0.7924533023505228 and parameters: {'n_neighbors': 4, 'metric': 'minkowski', 'weights': 'distance'}. Best is trial 19 with value: 0.7942532844758243.\n",
            "[I 2025-08-01 17:22:39,019] Trial 29 finished with value: 0.7924604522298687 and parameters: {'n_neighbors': 7, 'metric': 'euclidean', 'weights': 'distance'}. Best is trial 19 with value: 0.7942532844758243.\n",
            "[I 2025-08-01 17:22:39,974] Trial 30 finished with value: 0.7924533023505228 and parameters: {'n_neighbors': 4, 'metric': 'minkowski', 'weights': 'distance'}. Best is trial 19 with value: 0.7942532844758243.\n",
            "[I 2025-08-01 17:22:40,927] Trial 31 finished with value: 0.7942532844758243 and parameters: {'n_neighbors': 3, 'metric': 'minkowski', 'weights': 'distance'}. Best is trial 19 with value: 0.7942532844758243.\n",
            "[I 2025-08-01 17:22:41,936] Trial 32 finished with value: 0.7942532844758243 and parameters: {'n_neighbors': 3, 'metric': 'minkowski', 'weights': 'distance'}. Best is trial 19 with value: 0.7942532844758243.\n",
            "[I 2025-08-01 17:22:42,867] Trial 33 finished with value: 0.7936526946107785 and parameters: {'n_neighbors': 5, 'metric': 'minkowski', 'weights': 'distance'}. Best is trial 19 with value: 0.7942532844758243.\n",
            "[I 2025-08-01 17:22:54,293] Trial 34 finished with value: 0.7757154348020376 and parameters: {'n_neighbors': 4, 'metric': 'manhattan', 'weights': 'distance'}. Best is trial 19 with value: 0.7942532844758243.\n",
            "[I 2025-08-01 17:22:55,243] Trial 35 finished with value: 0.7942532844758243 and parameters: {'n_neighbors': 3, 'metric': 'minkowski', 'weights': 'distance'}. Best is trial 19 with value: 0.7942532844758243.\n",
            "[I 2025-08-01 17:23:06,383] Trial 36 finished with value: 0.7757154348020376 and parameters: {'n_neighbors': 4, 'metric': 'manhattan', 'weights': 'distance'}. Best is trial 19 with value: 0.7942532844758243.\n",
            "[I 2025-08-01 17:23:08,138] Trial 37 finished with value: 0.7793118241129682 and parameters: {'n_neighbors': 5, 'metric': 'minkowski', 'weights': 'uniform'}. Best is trial 19 with value: 0.7942532844758243.\n",
            "[I 2025-08-01 17:23:19,648] Trial 38 finished with value: 0.7817034587541335 and parameters: {'n_neighbors': 6, 'metric': 'manhattan', 'weights': 'distance'}. Best is trial 19 with value: 0.7942532844758243.\n",
            "[I 2025-08-01 17:23:21,675] Trial 39 finished with value: 0.7864831530967915 and parameters: {'n_neighbors': 10, 'metric': 'euclidean', 'weights': 'distance'}. Best is trial 19 with value: 0.7942532844758243.\n",
            "[I 2025-08-01 17:23:23,641] Trial 40 finished with value: 0.7781160067923854 and parameters: {'n_neighbors': 7, 'metric': 'minkowski', 'weights': 'uniform'}. Best is trial 19 with value: 0.7942532844758243.\n",
            "[I 2025-08-01 17:23:24,816] Trial 41 finished with value: 0.7942532844758243 and parameters: {'n_neighbors': 3, 'metric': 'minkowski', 'weights': 'distance'}. Best is trial 19 with value: 0.7942532844758243.\n",
            "[I 2025-08-01 17:23:25,742] Trial 42 finished with value: 0.7942532844758243 and parameters: {'n_neighbors': 3, 'metric': 'minkowski', 'weights': 'distance'}. Best is trial 19 with value: 0.7942532844758243.\n",
            "[I 2025-08-01 17:23:26,705] Trial 43 finished with value: 0.7924533023505228 and parameters: {'n_neighbors': 4, 'metric': 'minkowski', 'weights': 'distance'}. Best is trial 19 with value: 0.7942532844758243.\n",
            "[I 2025-08-01 17:23:27,666] Trial 44 finished with value: 0.7942532844758243 and parameters: {'n_neighbors': 3, 'metric': 'minkowski', 'weights': 'distance'}. Best is trial 19 with value: 0.7942532844758243.\n",
            "[I 2025-08-01 17:23:28,618] Trial 45 finished with value: 0.7924533023505228 and parameters: {'n_neighbors': 4, 'metric': 'minkowski', 'weights': 'distance'}. Best is trial 19 with value: 0.7942532844758243.\n",
            "[I 2025-08-01 17:23:39,946] Trial 46 finished with value: 0.7739261774957548 and parameters: {'n_neighbors': 3, 'metric': 'manhattan', 'weights': 'distance'}. Best is trial 19 with value: 0.7942532844758243.\n",
            "[I 2025-08-01 17:23:40,891] Trial 47 finished with value: 0.7936526946107785 and parameters: {'n_neighbors': 5, 'metric': 'euclidean', 'weights': 'distance'}. Best is trial 19 with value: 0.7942532844758243.\n",
            "[I 2025-08-01 17:23:41,923] Trial 48 finished with value: 0.7846813835016535 and parameters: {'n_neighbors': 14, 'metric': 'minkowski', 'weights': 'distance'}. Best is trial 19 with value: 0.7942532844758243.\n",
            "[I 2025-08-01 17:23:42,883] Trial 49 finished with value: 0.7703423004736795 and parameters: {'n_neighbors': 9, 'metric': 'minkowski', 'weights': 'uniform'}. Best is trial 19 with value: 0.7942532844758243.\n"
          ]
        },
        {
          "output_type": "stream",
          "name": "stdout",
          "text": [
            "Best KNN hyperparameters: {'n_neighbors': 3, 'metric': 'euclidean', 'weights': 'distance'}\n"
          ]
        }
      ]
    },
    {
      "cell_type": "code",
      "source": [
        "# Extract best values\n",
        "best_k = best_knn_params['n_neighbors']\n",
        "best_metric = best_knn_params['metric']\n",
        "best_weights = best_knn_params['weights']\n",
        "\n",
        "def knn(X_train, y_train, X_test, k=best_k, metric=best_metric, weights=best_weights):\n",
        "    \"\"\"Optimized KNN model.\"\"\"\n",
        "\n",
        "    # Convert labels to NumPy array (avoid indexing issues)\n",
        "    y_train = np.array(y_train)\n",
        "\n",
        "    # Fit KNN classifier with optimized parameters\n",
        "    knn_model = KNeighborsClassifier(n_neighbors=k, metric=metric, weights=weights)\n",
        "    knn_model.fit(X_train, y_train)\n",
        "\n",
        "    # Predict on test set\n",
        "    predictions = knn_model.predict(X_test)\n",
        "\n",
        "    return predictions\n"
      ],
      "metadata": {
        "id": "c0hY__1DV0x6"
      },
      "execution_count": null,
      "outputs": []
    },
    {
      "cell_type": "code",
      "execution_count": null,
      "metadata": {
        "id": "5e3ed9be"
      },
      "outputs": [],
      "source": [
        "\n",
        "\n",
        "# Run KNN with optimized parameters\n",
        "knn_preds = knn(X_train_features, y_train, X_test_features)\n"
      ]
    },
    {
      "cell_type": "code",
      "execution_count": null,
      "metadata": {
        "id": "7502eed8"
      },
      "outputs": [],
      "source": [
        "X_train_combined = np.hstack((X_train_features, y_train.reshape(-1, 1)))\n",
        "X_test_combined = np.hstack((X_test_features, knn_preds.reshape(-1, 1)))"
      ]
    },
    {
      "cell_type": "code",
      "source": [
        "import optuna\n",
        "from tensorflow.keras.models import Sequential\n",
        "from tensorflow.keras.layers import Dense, Dropout, BatchNormalization\n",
        "from tensorflow.keras.optimizers import Adam\n",
        "\n",
        "feature_dim = X_train_combined.shape[1]\n",
        "\n",
        "\n",
        "def objective(trial):\n",
        "    \"\"\"Objective function for optimizing neural network hyperparameters.\"\"\"\n",
        "\n",
        "    # Hyperparameters to optimize\n",
        "    num_units_1 = trial.suggest_int('num_units_1', 128, 512, step=64)  # First Dense layer\n",
        "    num_units_2 = trial.suggest_int('num_units_2', 64, 256, step=64)   # Second Dense layer\n",
        "    num_units_3 = trial.suggest_int('num_units_3', 32, 128, step=32)   # Third Dense layer\n",
        "    dropout_1 = trial.suggest_float('dropout_1', 0.2, 0.5)  # Dropout after first layer\n",
        "    dropout_2 = trial.suggest_float('dropout_2', 0.2, 0.5)  # Dropout after second layer\n",
        "    learning_rate = trial.suggest_loguniform('learning_rate', 0.0001, 0.001)  # Adam learning rate\n",
        "\n",
        "    # Build model\n",
        "    model = Sequential([\n",
        "        Dense(num_units_1, activation='selu', input_shape=(feature_dim,)),\n",
        "        BatchNormalization(),\n",
        "        Dropout(dropout_1),\n",
        "        Dense(num_units_2, activation='selu'),\n",
        "        BatchNormalization(),\n",
        "        Dropout(dropout_2),\n",
        "        Dense(num_units_3, activation='selu'),\n",
        "        BatchNormalization(),\n",
        "        Dense(10, activation='softmax')\n",
        "    ])\n",
        "\n",
        "    # Compile model with tuned learning rate\n",
        "    model.compile(optimizer=Adam(learning_rate=learning_rate),\n",
        "                  loss='sparse_categorical_crossentropy',\n",
        "                  metrics=['accuracy'])\n",
        "\n",
        "    # Train model (Use fewer epochs for tuning)\n",
        "    history = model.fit(\n",
        "        X_train_combined, y_train,\n",
        "        epochs=10,  # Keep epochs low for tuning\n",
        "        batch_size=64,\n",
        "        validation_split=0.2,\n",
        "        verbose=0\n",
        "    )\n",
        "\n",
        "    # Return best validation accuracy\n",
        "    return max(history.history['val_accuracy'])\n"
      ],
      "metadata": {
        "id": "IDTsEzYyUVA_"
      },
      "execution_count": null,
      "outputs": []
    },
    {
      "cell_type": "code",
      "execution_count": null,
      "metadata": {
        "id": "e4631237",
        "colab": {
          "base_uri": "https://localhost:8080/"
        },
        "outputId": "a5c93e97-9dea-46ee-a1f3-03b6402c0e49"
      },
      "outputs": [
        {
          "output_type": "stream",
          "name": "stderr",
          "text": [
            "[I 2025-08-01 17:23:43,062] A new study created in memory with name: no-name-7e73cd51-dfab-4674-b37f-1023ceb116a4\n",
            "/tmp/ipython-input-3243621785.py:18: FutureWarning: suggest_loguniform has been deprecated in v3.0.0. This feature will be removed in v6.0.0. See https://github.com/optuna/optuna/releases/tag/v3.0.0. Use suggest_float(..., log=True) instead.\n",
            "  learning_rate = trial.suggest_loguniform('learning_rate', 0.0001, 0.001)  # Adam learning rate\n",
            "/usr/local/lib/python3.11/dist-packages/keras/src/layers/core/dense.py:87: UserWarning: Do not pass an `input_shape`/`input_dim` argument to a layer. When using Sequential models, prefer using an `Input(shape)` object as the first layer in the model instead.\n",
            "  super().__init__(activity_regularizer=activity_regularizer, **kwargs)\n",
            "[I 2025-08-01 17:23:52,073] Trial 0 finished with value: 0.8238806128501892 and parameters: {'num_units_1': 192, 'num_units_2': 256, 'num_units_3': 32, 'dropout_1': 0.4713085227526265, 'dropout_2': 0.49158395346869993, 'learning_rate': 0.00015220203412530348}. Best is trial 0 with value: 0.8238806128501892.\n",
            "[I 2025-08-01 17:23:58,929] Trial 1 finished with value: 0.8626865744590759 and parameters: {'num_units_1': 192, 'num_units_2': 64, 'num_units_3': 64, 'dropout_1': 0.2532890265350545, 'dropout_2': 0.4133905900768177, 'learning_rate': 0.0008688631957894244}. Best is trial 1 with value: 0.8626865744590759.\n",
            "[I 2025-08-01 17:24:07,780] Trial 2 finished with value: 0.8358209133148193 and parameters: {'num_units_1': 320, 'num_units_2': 128, 'num_units_3': 64, 'dropout_1': 0.21903892419024876, 'dropout_2': 0.3037083977090402, 'learning_rate': 0.00014538282692462678}. Best is trial 1 with value: 0.8626865744590759.\n",
            "[I 2025-08-01 17:24:15,825] Trial 3 finished with value: 0.8358209133148193 and parameters: {'num_units_1': 320, 'num_units_2': 64, 'num_units_3': 96, 'dropout_1': 0.44793771686022077, 'dropout_2': 0.3156730141193949, 'learning_rate': 0.00016785678377447753}. Best is trial 1 with value: 0.8626865744590759.\n",
            "[I 2025-08-01 17:24:24,860] Trial 4 finished with value: 0.8626865744590759 and parameters: {'num_units_1': 192, 'num_units_2': 256, 'num_units_3': 96, 'dropout_1': 0.28893633786694783, 'dropout_2': 0.4775468348179405, 'learning_rate': 0.0002219096276260243}. Best is trial 1 with value: 0.8626865744590759.\n",
            "[I 2025-08-01 17:24:31,866] Trial 5 finished with value: 0.8626865744590759 and parameters: {'num_units_1': 192, 'num_units_2': 256, 'num_units_3': 128, 'dropout_1': 0.2293608265906768, 'dropout_2': 0.3486620571556165, 'learning_rate': 0.0003538758432222333}. Best is trial 1 with value: 0.8626865744590759.\n",
            "[I 2025-08-01 17:24:41,186] Trial 6 finished with value: 0.8238806128501892 and parameters: {'num_units_1': 256, 'num_units_2': 128, 'num_units_3': 32, 'dropout_1': 0.4317520074817688, 'dropout_2': 0.49488964841657257, 'learning_rate': 0.00019642185526713355}. Best is trial 1 with value: 0.8626865744590759.\n",
            "[I 2025-08-01 17:24:52,180] Trial 7 finished with value: 0.8776119351387024 and parameters: {'num_units_1': 448, 'num_units_2': 256, 'num_units_3': 64, 'dropout_1': 0.41079536707375486, 'dropout_2': 0.24112327392315988, 'learning_rate': 0.0006537094898696721}. Best is trial 7 with value: 0.8776119351387024.\n",
            "[I 2025-08-01 17:25:01,491] Trial 8 finished with value: 0.8358209133148193 and parameters: {'num_units_1': 448, 'num_units_2': 64, 'num_units_3': 32, 'dropout_1': 0.3157655408187885, 'dropout_2': 0.31486977048698334, 'learning_rate': 0.00015960657119065517}. Best is trial 7 with value: 0.8776119351387024.\n",
            "[I 2025-08-01 17:25:12,907] Trial 9 finished with value: 0.8477612137794495 and parameters: {'num_units_1': 384, 'num_units_2': 64, 'num_units_3': 64, 'dropout_1': 0.25923841991836993, 'dropout_2': 0.3723530539723545, 'learning_rate': 0.00016411565728404894}. Best is trial 7 with value: 0.8776119351387024.\n",
            "[I 2025-08-01 17:25:25,922] Trial 10 finished with value: 0.8686566948890686 and parameters: {'num_units_1': 512, 'num_units_2': 192, 'num_units_3': 128, 'dropout_1': 0.38557297369689497, 'dropout_2': 0.216881316539071, 'learning_rate': 0.0007035643319198309}. Best is trial 7 with value: 0.8776119351387024.\n",
            "[I 2025-08-01 17:25:37,385] Trial 11 finished with value: 0.874626874923706 and parameters: {'num_units_1': 512, 'num_units_2': 192, 'num_units_3': 128, 'dropout_1': 0.36731203752918073, 'dropout_2': 0.2044908732770501, 'learning_rate': 0.0007532032947722048}. Best is trial 7 with value: 0.8776119351387024.\n",
            "[I 2025-08-01 17:25:47,815] Trial 12 finished with value: 0.8716418147087097 and parameters: {'num_units_1': 512, 'num_units_2': 192, 'num_units_3': 96, 'dropout_1': 0.37253927747946225, 'dropout_2': 0.2146589521720031, 'learning_rate': 0.0005068969636165021}. Best is trial 7 with value: 0.8776119351387024.\n",
            "[I 2025-08-01 17:25:57,957] Trial 13 finished with value: 0.8656716346740723 and parameters: {'num_units_1': 448, 'num_units_2': 192, 'num_units_3': 128, 'dropout_1': 0.4050699606556562, 'dropout_2': 0.25613195035023, 'learning_rate': 0.0005153989559725552}. Best is trial 7 with value: 0.8776119351387024.\n",
            "[I 2025-08-01 17:26:08,724] Trial 14 finished with value: 0.8895522356033325 and parameters: {'num_units_1': 448, 'num_units_2': 256, 'num_units_3': 96, 'dropout_1': 0.33982057460769494, 'dropout_2': 0.25377469496924815, 'learning_rate': 0.0009224479219259397}. Best is trial 14 with value: 0.8895522356033325.\n",
            "[I 2025-08-01 17:26:19,728] Trial 15 finished with value: 0.8716418147087097 and parameters: {'num_units_1': 384, 'num_units_2': 256, 'num_units_3': 64, 'dropout_1': 0.3316975954593362, 'dropout_2': 0.2631218755614803, 'learning_rate': 0.0009870712552187669}. Best is trial 14 with value: 0.8895522356033325.\n",
            "[I 2025-08-01 17:26:30,457] Trial 16 finished with value: 0.8597015142440796 and parameters: {'num_units_1': 448, 'num_units_2': 256, 'num_units_3': 96, 'dropout_1': 0.41055273883771654, 'dropout_2': 0.26251031011801274, 'learning_rate': 0.0005705794368953664}. Best is trial 14 with value: 0.8895522356033325.\n",
            "[I 2025-08-01 17:26:39,737] Trial 17 finished with value: 0.8865671753883362 and parameters: {'num_units_1': 384, 'num_units_2': 256, 'num_units_3': 64, 'dropout_1': 0.4892204473361006, 'dropout_2': 0.24779719472680115, 'learning_rate': 0.0003808833377148025}. Best is trial 14 with value: 0.8895522356033325.\n",
            "[I 2025-08-01 17:26:50,100] Trial 18 finished with value: 0.8507462739944458 and parameters: {'num_units_1': 384, 'num_units_2': 128, 'num_units_3': 96, 'dropout_1': 0.4976382407744805, 'dropout_2': 0.29036333498413924, 'learning_rate': 0.00033669510044046636}. Best is trial 14 with value: 0.8895522356033325.\n",
            "[I 2025-08-01 17:26:59,365] Trial 19 finished with value: 0.8597015142440796 and parameters: {'num_units_1': 256, 'num_units_2': 192, 'num_units_3': 64, 'dropout_1': 0.3073802983610304, 'dropout_2': 0.37368804359955565, 'learning_rate': 0.00026244399875043474}. Best is trial 14 with value: 0.8895522356033325.\n"
          ]
        },
        {
          "output_type": "stream",
          "name": "stdout",
          "text": [
            "Best hyperparameters: {'num_units_1': 448, 'num_units_2': 256, 'num_units_3': 96, 'dropout_1': 0.33982057460769494, 'dropout_2': 0.25377469496924815, 'learning_rate': 0.0009224479219259397}\n"
          ]
        }
      ],
      "source": [
        "study = optuna.create_study(direction='maximize')  # Maximize accuracy\n",
        "study.optimize(objective, n_trials=20)  # Run 20 trials\n",
        "\n",
        "# Get the best parameters\n",
        "best_params = study.best_params\n",
        "print(\"Best hyperparameters:\", best_params)"
      ]
    },
    {
      "cell_type": "code",
      "source": [
        "# Unpack Optuna best parameters\n",
        "num_units_1 = best_params['num_units_1']\n",
        "num_units_2 = best_params['num_units_2']\n",
        "num_units_3 = best_params['num_units_3']\n",
        "dropout_1 = best_params['dropout_1']\n",
        "dropout_2 = best_params['dropout_2']\n",
        "learning_rate = best_params['learning_rate']"
      ],
      "metadata": {
        "id": "EwBWo_v9FJrq"
      },
      "execution_count": null,
      "outputs": []
    },
    {
      "cell_type": "code",
      "source": [
        "\n",
        "\n",
        "\n",
        "\n",
        "import numpy as np\n",
        "from sklearn.metrics import accuracy_score\n",
        "from statsmodels.stats.contingency_tables import mcnemar\n",
        "\n",
        "# ====================== EfficientNet-B0 ============================\n",
        "# Load predictions if previously saved\n",
        "efficientnet_preds = np.load(\"/content/drive/My Drive/test_predictions.npy\")\n",
        "\n",
        "# ====================== FusionNet Predictions ======================\n",
        "# Rebuild final FusionNet model using best hyperparameters\n",
        "final_model = Sequential([\n",
        "    Dense(num_units_1, activation='selu', input_shape=(X_train_combined.shape[1],)),\n",
        "    BatchNormalization(),\n",
        "    Dropout(dropout_1),\n",
        "    Dense(num_units_2, activation='selu'),\n",
        "    BatchNormalization(),\n",
        "    Dropout(dropout_2),\n",
        "    Dense(num_units_3, activation='selu'),\n",
        "    BatchNormalization(),\n",
        "    Dense(10, activation='softmax')\n",
        "])\n",
        "\n",
        "final_model.compile(optimizer=Adam(learning_rate=learning_rate),\n",
        "                    loss='sparse_categorical_crossentropy', metrics=['accuracy'])\n",
        "\n",
        "# Train on full training data\n",
        "final_model.fit(X_train_combined, y_train, epochs=20, batch_size=64, verbose=0)\n",
        "\n",
        "# Predict on test set\n",
        "fusionnet_preds_proba = final_model.predict(X_test_combined)\n",
        "fusionnet_preds = np.argmax(fusionnet_preds_proba, axis=1)\n",
        "test_df['label'] = test_df['label'].astype(str)\n",
        "\n",
        "test_datagen = ImageDataGenerator(preprocessing_function=tf.keras.applications.efficientnet.preprocess_input)\n",
        "test_generator = test_datagen.flow_from_dataframe(\n",
        "    dataframe=test_df,\n",
        "    x_col='image_path',\n",
        "    y_col='label',  # Include labels here\n",
        "    target_size=(224, 224),\n",
        "    batch_size=16,\n",
        "    class_mode='categorical',  # Ensure class mode is categorical\n",
        "    shuffle=False\n",
        ")\n",
        "\n",
        "\n",
        "\n",
        "\n",
        "test_df['label'] = test_df['label'].astype(str)\n",
        "\n",
        "true_labels = test_generator.labels  # Already aligned\n",
        "# ====================== Contingency Table ======================\n",
        "fusionnet_correct = fusionnet_preds == true_labels\n",
        "efficientnet_correct = efficientnet_preds == true_labels\n",
        "\n",
        "B = np.sum((fusionnet_correct == True) & (efficientnet_correct == False))  # FusionNet correct, EfficientNet wrong\n",
        "C = np.sum((fusionnet_correct == False) & (efficientnet_correct == True))  # EfficientNet correct, FusionNet wrong\n",
        "\n",
        "# Create table\n",
        "table = [[0, B],\n",
        "         [C, 0]]\n",
        "\n",
        "# Run McNemar's Test\n",
        "result = mcnemar(table, exact=False, correction=True)\n",
        "\n"
      ],
      "metadata": {
        "id": "DB7EgQnxVa6w"
      },
      "execution_count": null,
      "outputs": []
    },
    {
      "cell_type": "code",
      "source": [
        "# ====================== Output ======================\n",
        "print(\"\\n========= McNemar’s Test Result =========\")\n",
        "print(f\"Contingency Table: [[0, {B}], [{C}, 0]]\")\n",
        "print(f\"McNemar's Test Statistic: {result.statistic:.2f}\")\n",
        "print(f\"P-value:  {result.pvalue:.3f}\")\n"
      ],
      "metadata": {
        "colab": {
          "base_uri": "https://localhost:8080/"
        },
        "id": "lhFnN_pdkGwl",
        "outputId": "7c03aa78-eb44-45d9-d642-038dbbc36a92"
      },
      "execution_count": 1,
      "outputs": [
        {
          "output_type": "stream",
          "name": "stdout",
          "text": [
            "\n",
            "========= McNemar’s Test Result =========\n",
            "Contingency Table: [[0, 45], [55, 0]]\n",
            "McNemar's Test Statistic: 3.75\n",
            "P-value:  0.054\n"
          ]
        }
      ]
    }
  ],
  "metadata": {
    "colab": {
      "provenance": [],
      "include_colab_link": true
    },
    "kernelspec": {
      "display_name": "Python 3",
      "name": "python3"
    },
    "language_info": {
      "name": "python"
    }
  },
  "nbformat": 4,
  "nbformat_minor": 0
}